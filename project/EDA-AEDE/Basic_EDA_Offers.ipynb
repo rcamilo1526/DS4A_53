{
 "cells": [
  {
   "cell_type": "markdown",
   "metadata": {
    "id": "b2E0n5e9NtqM"
   },
   "source": [
    "## Import libraries"
   ]
  },
  {
   "cell_type": "code",
   "execution_count": null,
   "metadata": {
    "colab": {
     "base_uri": "https://localhost:8080/",
     "height": 35
    },
    "id": "MWit-S5ZYN0g",
    "outputId": "d5975fe2-1ea7-4aa1-f4aa-9c39c7bde24e"
   },
   "outputs": [
    {
     "name": "stdout",
     "output_type": "stream",
     "text": [
      "Drive already mounted at /content/drive; to attempt to forcibly remount, call drive.mount(\"/content/drive\", force_remount=True).\n"
     ]
    }
   ],
   "source": [
    "from google.colab import drive\n",
    "drive.mount('/content/drive')"
   ]
  },
  {
   "cell_type": "code",
   "execution_count": null,
   "metadata": {
    "id": "ZH42bGHxYFAI"
   },
   "outputs": [],
   "source": [
    "import numpy                 as np\n",
    "import pandas                as pd\n",
    "import matplotlib.pyplot     as plt\n",
    "import seaborn               as sns\n",
    "import sklearn.metrics       as Metrics\n",
    "import pandas                as pd\n",
    "import matplotlib.pyplot     as plt\n",
    "\n",
    "\n",
    "import folium  #needed for interactive map\n",
    "from folium.plugins import HeatMap\n",
    "\n",
    "from   collections           import Counter\n",
    "from   sklearn               import preprocessing\n",
    "from   datetime              import datetime\n",
    "from   collections           import Counter\n",
    "from   math                  import exp\n",
    "from   sklearn.linear_model  import LinearRegression as LinReg\n",
    "from   sklearn.metrics       import mean_absolute_error\n",
    "from   sklearn.metrics       import median_absolute_error\n",
    "from   sklearn.metrics       import r2_score\n",
    "\n",
    "%matplotlib inline\n",
    "sns.set()"
   ]
  },
  {
   "cell_type": "markdown",
   "metadata": {
    "id": "iCdJOpwWNyHY"
   },
   "source": [
    "## Import File and read first rows"
   ]
  },
  {
   "cell_type": "code",
   "execution_count": null,
   "metadata": {
    "colab": {
     "base_uri": "https://localhost:8080/",
     "height": 513
    },
    "id": "Z_zSnH0VZUiA",
    "outputId": "c6d9d6b9-8240-44f1-e328-bb553c8790ba"
   },
   "outputs": [
    {
     "data": {
      "text/html": [
       "<div>\n",
       "<style scoped>\n",
       "    .dataframe tbody tr th:only-of-type {\n",
       "        vertical-align: middle;\n",
       "    }\n",
       "\n",
       "    .dataframe tbody tr th {\n",
       "        vertical-align: top;\n",
       "    }\n",
       "\n",
       "    .dataframe thead th {\n",
       "        text-align: right;\n",
       "    }\n",
       "</style>\n",
       "<table border=\"1\" class=\"dataframe\">\n",
       "  <thead>\n",
       "    <tr style=\"text-align: right;\">\n",
       "      <th></th>\n",
       "      <th>Nombre Barrio</th>\n",
       "      <th>Codigo Barrio</th>\n",
       "      <th>Codigo Manzana</th>\n",
       "      <th>Codigo Predio</th>\n",
       "      <th>Codigo Construccion</th>\n",
       "      <th>Codigo Resto</th>\n",
       "      <th>Fecha De Cargue</th>\n",
       "      <th>Direccion</th>\n",
       "      <th>Codigo Oferta</th>\n",
       "      <th>Tipo Oferta</th>\n",
       "      <th>Tipo Inmueble</th>\n",
       "      <th>Fuente</th>\n",
       "      <th>Chip</th>\n",
       "      <th>Area Terreno</th>\n",
       "      <th>Area Construida</th>\n",
       "      <th>Vr Inicial Venta</th>\n",
       "      <th>Vr Final Venta</th>\n",
       "      <th>Vr Inicial Arriendo</th>\n",
       "      <th>Vr Final Arriendo</th>\n",
       "    </tr>\n",
       "  </thead>\n",
       "  <tbody>\n",
       "    <tr>\n",
       "      <th>0</th>\n",
       "      <td>ESTACION CENTRAL</td>\n",
       "      <td>6204</td>\n",
       "      <td>17</td>\n",
       "      <td>15</td>\n",
       "      <td>0</td>\n",
       "      <td>0</td>\n",
       "      <td>2019-09-30T00:00:00Z</td>\n",
       "      <td>KR 33 17 27</td>\n",
       "      <td>5,00E+05</td>\n",
       "      <td>VENTA</td>\n",
       "      <td>Bodega</td>\n",
       "      <td>CAMPO</td>\n",
       "      <td>AAA0251LMRJ</td>\n",
       "      <td>2060,8</td>\n",
       "      <td>2306</td>\n",
       "      <td>7,00E+09</td>\n",
       "      <td>6880300000</td>\n",
       "      <td>0</td>\n",
       "      <td>0</td>\n",
       "    </tr>\n",
       "    <tr>\n",
       "      <th>1</th>\n",
       "      <td>COOPERATIVA DE SUB-OFICIALES</td>\n",
       "      <td>6501</td>\n",
       "      <td>3</td>\n",
       "      <td>10</td>\n",
       "      <td>0</td>\n",
       "      <td>0</td>\n",
       "      <td>2019-09-30T00:00:00Z</td>\n",
       "      <td>KR 71F 12 02</td>\n",
       "      <td>500001</td>\n",
       "      <td>VENTA</td>\n",
       "      <td>Casa uso mixto</td>\n",
       "      <td>CAMPO</td>\n",
       "      <td>AAA0080RXPP</td>\n",
       "      <td>100,1</td>\n",
       "      <td>211,3</td>\n",
       "      <td>0</td>\n",
       "      <td>0</td>\n",
       "      <td>0</td>\n",
       "      <td>0</td>\n",
       "    </tr>\n",
       "    <tr>\n",
       "      <th>2</th>\n",
       "      <td>ESTACION CENTRAL</td>\n",
       "      <td>6204</td>\n",
       "      <td>4</td>\n",
       "      <td>4</td>\n",
       "      <td>1</td>\n",
       "      <td>6011</td>\n",
       "      <td>2019-09-30T00:00:00Z</td>\n",
       "      <td>CL 14 30 17 AP 611</td>\n",
       "      <td>500002</td>\n",
       "      <td>ARRIENDO</td>\n",
       "      <td>Apartamento</td>\n",
       "      <td>CAMPO</td>\n",
       "      <td>AAA0164RCHY</td>\n",
       "      <td>18,04</td>\n",
       "      <td>50,44</td>\n",
       "      <td>0</td>\n",
       "      <td>0</td>\n",
       "      <td>0</td>\n",
       "      <td>0</td>\n",
       "    </tr>\n",
       "    <tr>\n",
       "      <th>3</th>\n",
       "      <td>ARBORIZADORA ALTA</td>\n",
       "      <td>2568</td>\n",
       "      <td>10</td>\n",
       "      <td>14</td>\n",
       "      <td>0</td>\n",
       "      <td>0</td>\n",
       "      <td>2019-09-30T00:00:00Z</td>\n",
       "      <td>CL 74 SUR 38A 60</td>\n",
       "      <td>500003</td>\n",
       "      <td>ARRIENDO PARCIAL</td>\n",
       "      <td>Casa uso mixto</td>\n",
       "      <td>CAMPO</td>\n",
       "      <td>AAA0028RFAF</td>\n",
       "      <td>42</td>\n",
       "      <td>42</td>\n",
       "      <td>0</td>\n",
       "      <td>0</td>\n",
       "      <td>1200000</td>\n",
       "      <td>1178000</td>\n",
       "    </tr>\n",
       "    <tr>\n",
       "      <th>4</th>\n",
       "      <td>ARBORIZADORA ALTA</td>\n",
       "      <td>2568</td>\n",
       "      <td>10</td>\n",
       "      <td>12</td>\n",
       "      <td>0</td>\n",
       "      <td>0</td>\n",
       "      <td>2019-09-30T00:00:00Z</td>\n",
       "      <td>CL 74 SUR 38A 52</td>\n",
       "      <td>500004</td>\n",
       "      <td>VENTA</td>\n",
       "      <td>Casa uso mixto</td>\n",
       "      <td>CAMPO</td>\n",
       "      <td>AAA0028REYN</td>\n",
       "      <td>42</td>\n",
       "      <td>130,2</td>\n",
       "      <td>1,50E+08</td>\n",
       "      <td>145335000</td>\n",
       "      <td>0</td>\n",
       "      <td>0</td>\n",
       "    </tr>\n",
       "    <tr>\n",
       "      <th>5</th>\n",
       "      <td>SAN PABLO BOSA</td>\n",
       "      <td>4524</td>\n",
       "      <td>14</td>\n",
       "      <td>26</td>\n",
       "      <td>0</td>\n",
       "      <td>0</td>\n",
       "      <td>2019-09-30T00:00:00Z</td>\n",
       "      <td>CL 67 SUR 78D 15</td>\n",
       "      <td>500005</td>\n",
       "      <td>ARRIENDO PARCIAL</td>\n",
       "      <td>Casa</td>\n",
       "      <td>CAMPO</td>\n",
       "      <td>AAA0046HECN</td>\n",
       "      <td>184</td>\n",
       "      <td>347,5</td>\n",
       "      <td>0</td>\n",
       "      <td>0</td>\n",
       "      <td>5,00E+05</td>\n",
       "      <td>491000</td>\n",
       "    </tr>\n",
       "    <tr>\n",
       "      <th>6</th>\n",
       "      <td>BOLONIA</td>\n",
       "      <td>2605</td>\n",
       "      <td>29</td>\n",
       "      <td>9</td>\n",
       "      <td>0</td>\n",
       "      <td>0</td>\n",
       "      <td>2019-09-30T00:00:00Z</td>\n",
       "      <td>CL 81C SUR 4 15 ESTE</td>\n",
       "      <td>500006</td>\n",
       "      <td>VENTA</td>\n",
       "      <td>Casa uso mixto</td>\n",
       "      <td>CAMPO</td>\n",
       "      <td>AAA0144UWUH</td>\n",
       "      <td>72,3</td>\n",
       "      <td>72,3</td>\n",
       "      <td>5,00E+07</td>\n",
       "      <td>48345000</td>\n",
       "      <td>0</td>\n",
       "      <td>0</td>\n",
       "    </tr>\n",
       "    <tr>\n",
       "      <th>7</th>\n",
       "      <td>BOLONIA</td>\n",
       "      <td>2605</td>\n",
       "      <td>29</td>\n",
       "      <td>9</td>\n",
       "      <td>0</td>\n",
       "      <td>0</td>\n",
       "      <td>2019-09-30T00:00:00Z</td>\n",
       "      <td>CL 81C SUR 4 15 ESTE</td>\n",
       "      <td>500007</td>\n",
       "      <td>ARRIENDO PARCIAL</td>\n",
       "      <td>Casa uso mixto</td>\n",
       "      <td>CAMPO</td>\n",
       "      <td>AAA0144UWUH</td>\n",
       "      <td>72,3</td>\n",
       "      <td>72,3</td>\n",
       "      <td>0</td>\n",
       "      <td>0</td>\n",
       "      <td>380000</td>\n",
       "      <td>373000</td>\n",
       "    </tr>\n",
       "    <tr>\n",
       "      <th>8</th>\n",
       "      <td>ARBORIZADORA ALTA</td>\n",
       "      <td>2568</td>\n",
       "      <td>10</td>\n",
       "      <td>9</td>\n",
       "      <td>0</td>\n",
       "      <td>0</td>\n",
       "      <td>2019-09-30T00:00:00Z</td>\n",
       "      <td>CL 74 SUR 38A 40</td>\n",
       "      <td>500008</td>\n",
       "      <td>VENTA</td>\n",
       "      <td>Casa</td>\n",
       "      <td>CAMPO</td>\n",
       "      <td>AAA0028REUH</td>\n",
       "      <td>42</td>\n",
       "      <td>174,3</td>\n",
       "      <td>1,47E+08</td>\n",
       "      <td>142420000</td>\n",
       "      <td>0</td>\n",
       "      <td>0</td>\n",
       "    </tr>\n",
       "    <tr>\n",
       "      <th>9</th>\n",
       "      <td>COOPERATIVA DE SUB-OFICIALES</td>\n",
       "      <td>6501</td>\n",
       "      <td>3</td>\n",
       "      <td>4</td>\n",
       "      <td>0</td>\n",
       "      <td>0</td>\n",
       "      <td>2019-09-30T00:00:00Z</td>\n",
       "      <td>AC 12 71D 32 IN 5</td>\n",
       "      <td>500009</td>\n",
       "      <td>ARRIENDO PARCIAL</td>\n",
       "      <td>Casa uso mixto</td>\n",
       "      <td>CAMPO</td>\n",
       "      <td>AAA0080RXKL</td>\n",
       "      <td>117</td>\n",
       "      <td>213,05</td>\n",
       "      <td>0</td>\n",
       "      <td>0</td>\n",
       "      <td>850000</td>\n",
       "      <td>850000</td>\n",
       "    </tr>\n",
       "  </tbody>\n",
       "</table>\n",
       "</div>"
      ],
      "text/plain": [
       "                  Nombre Barrio  ...  Vr Final Arriendo\n",
       "0              ESTACION CENTRAL  ...                  0\n",
       "1  COOPERATIVA DE SUB-OFICIALES  ...                  0\n",
       "2              ESTACION CENTRAL  ...                  0\n",
       "3             ARBORIZADORA ALTA  ...            1178000\n",
       "4             ARBORIZADORA ALTA  ...                  0\n",
       "5                SAN PABLO BOSA  ...             491000\n",
       "6                       BOLONIA  ...                  0\n",
       "7                       BOLONIA  ...             373000\n",
       "8             ARBORIZADORA ALTA  ...                  0\n",
       "9  COOPERATIVA DE SUB-OFICIALES  ...             850000\n",
       "\n",
       "[10 rows x 19 columns]"
      ]
     },
     "execution_count": 78,
     "metadata": {
      "tags": []
     },
     "output_type": "execute_result"
    }
   ],
   "source": [
    "# Ajustar path file para tomar el path local\n",
    "pd_oferts = pd.read_csv('/content/drive/My Drive/DS4A/Project/Reto MINTIC/Ofertas/Ofertar.csv',sep=';')\n",
    "pd_oferts.head(10)"
   ]
  },
  {
   "cell_type": "code",
   "execution_count": null,
   "metadata": {
    "id": "eJEaG4c7ZeVB"
   },
   "outputs": [],
   "source": [
    "pd_oferts_copy = pd_oferts.copy()"
   ]
  },
  {
   "cell_type": "markdown",
   "metadata": {
    "id": "lSpRoFDJN31D"
   },
   "source": [
    "### Columns"
   ]
  },
  {
   "cell_type": "code",
   "execution_count": null,
   "metadata": {
    "colab": {
     "base_uri": "https://localhost:8080/",
     "height": 163
    },
    "id": "hI1T1vCVZjGV",
    "outputId": "6f1a1135-8e03-4cb3-aacb-9b3164aacfa9"
   },
   "outputs": [
    {
     "ename": "NameError",
     "evalue": "ignored",
     "output_type": "error",
     "traceback": [
      "\u001b[0;31m---------------------------------------------------------------------------\u001b[0m",
      "\u001b[0;31mNameError\u001b[0m                                 Traceback (most recent call last)",
      "\u001b[0;32m<ipython-input-1-9c357408116a>\u001b[0m in \u001b[0;36m<module>\u001b[0;34m()\u001b[0m\n\u001b[0;32m----> 1\u001b[0;31m \u001b[0mpd_oferts_copy\u001b[0m\u001b[0;34m.\u001b[0m\u001b[0mcolumns\u001b[0m\u001b[0;34m\u001b[0m\u001b[0;34m\u001b[0m\u001b[0m\n\u001b[0m",
      "\u001b[0;31mNameError\u001b[0m: name 'pd_oferts_copy' is not defined"
     ]
    }
   ],
   "source": [
    "pd_oferts_copy.columns"
   ]
  },
  {
   "cell_type": "code",
   "execution_count": null,
   "metadata": {
    "colab": {
     "base_uri": "https://localhost:8080/",
     "height": 367
    },
    "id": "XclQXMiJZvqQ",
    "outputId": "cf22ce9b-5920-4906-aa41-09ad14a44ec3"
   },
   "outputs": [
    {
     "data": {
      "text/plain": [
       "Nombre Barrio          object\n",
       "Codigo Barrio           int64\n",
       "Codigo Manzana          int64\n",
       "Codigo Predio           int64\n",
       "Codigo Construccion     int64\n",
       "Codigo Resto            int64\n",
       "Fecha De Cargue        object\n",
       "Direccion              object\n",
       "Codigo Oferta          object\n",
       "Tipo Oferta            object\n",
       "Tipo Inmueble          object\n",
       "Fuente                 object\n",
       "Chip                   object\n",
       "Area Terreno           object\n",
       "Area Construida        object\n",
       "Vr Inicial Venta       object\n",
       "Vr Final Venta         object\n",
       "Vr Inicial Arriendo    object\n",
       "Vr Final Arriendo      object\n",
       "dtype: object"
      ]
     },
     "execution_count": 81,
     "metadata": {
      "tags": []
     },
     "output_type": "execute_result"
    }
   ],
   "source": [
    "pd_oferts_copy.dtypes"
   ]
  },
  {
   "cell_type": "markdown",
   "metadata": {
    "id": "mJHGFnUWNoT8"
   },
   "source": [
    "#### Min Date of data"
   ]
  },
  {
   "cell_type": "code",
   "execution_count": null,
   "metadata": {
    "colab": {
     "base_uri": "https://localhost:8080/",
     "height": 35
    },
    "id": "YU-s3gioNIVt",
    "outputId": "0acf560f-a6a5-426e-a3ff-2cbfb61454f4"
   },
   "outputs": [
    {
     "data": {
      "application/vnd.google.colaboratory.intrinsic+json": {
       "type": "string"
      },
      "text/plain": [
       "'2019-09-30T00:00:00Z'"
      ]
     },
     "execution_count": 82,
     "metadata": {
      "tags": []
     },
     "output_type": "execute_result"
    }
   ],
   "source": [
    "pd_oferts['Fecha De Cargue'].min()"
   ]
  },
  {
   "cell_type": "markdown",
   "metadata": {
    "id": "it_ahZMwOBlY"
   },
   "source": [
    "#### Max Date of data"
   ]
  },
  {
   "cell_type": "code",
   "execution_count": null,
   "metadata": {
    "colab": {
     "base_uri": "https://localhost:8080/",
     "height": 35
    },
    "id": "u2PQbyZDNVus",
    "outputId": "7d47b3a4-84f7-4602-ae8c-fa682aedfd80"
   },
   "outputs": [
    {
     "data": {
      "application/vnd.google.colaboratory.intrinsic+json": {
       "type": "string"
      },
      "text/plain": [
       "'2020-08-13T00:00:00Z'"
      ]
     },
     "execution_count": 83,
     "metadata": {
      "tags": []
     },
     "output_type": "execute_result"
    }
   ],
   "source": [
    "pd_oferts['Fecha De Cargue'].max()"
   ]
  },
  {
   "cell_type": "code",
   "execution_count": null,
   "metadata": {
    "id": "vmyoNvdgauG1"
   },
   "outputs": [],
   "source": [
    "vr_cols = ['Vr Inicial Venta','Vr Final Venta','Vr Inicial Arriendo','Vr Final Arriendo']\n",
    "for vr in vr_cols:\n",
    "  pd_oferts_copy[vr] = pd_oferts_copy[vr].map(lambda x: x.replace(',','.'))"
   ]
  },
  {
   "cell_type": "code",
   "execution_count": null,
   "metadata": {
    "id": "Yud1cHuRTAqy"
   },
   "outputs": [],
   "source": [
    "area_cols = ['Area Terreno','Area Construida']\n",
    "for ar in area_cols:\n",
    "  pd_oferts_copy[ar] = pd_oferts_copy[ar].map(lambda x: x.replace(',','.'))"
   ]
  },
  {
   "cell_type": "code",
   "execution_count": null,
   "metadata": {
    "colab": {
     "base_uri": "https://localhost:8080/",
     "height": 367
    },
    "id": "PYIGsUlNb0OK",
    "outputId": "e906b959-330f-4448-9b62-e1937841a5f8"
   },
   "outputs": [
    {
     "data": {
      "text/plain": [
       "Nombre Barrio          object\n",
       "Codigo Barrio           int64\n",
       "Codigo Manzana          int64\n",
       "Codigo Predio           int64\n",
       "Codigo Construccion     int64\n",
       "Codigo Resto            int64\n",
       "Fecha De Cargue        object\n",
       "Direccion              object\n",
       "Codigo Oferta          object\n",
       "Tipo Oferta            object\n",
       "Tipo Inmueble          object\n",
       "Fuente                 object\n",
       "Chip                   object\n",
       "Area Terreno           object\n",
       "Area Construida        object\n",
       "Vr Inicial Venta       object\n",
       "Vr Final Venta         object\n",
       "Vr Inicial Arriendo    object\n",
       "Vr Final Arriendo      object\n",
       "dtype: object"
      ]
     },
     "execution_count": 86,
     "metadata": {
      "tags": []
     },
     "output_type": "execute_result"
    }
   ],
   "source": [
    "pd_oferts_copy.dtypes"
   ]
  },
  {
   "cell_type": "markdown",
   "metadata": {
    "id": "XNWGwwkJVHa8"
   },
   "source": [
    "### Neighbors"
   ]
  },
  {
   "cell_type": "code",
   "execution_count": null,
   "metadata": {
    "colab": {
     "base_uri": "https://localhost:8080/",
     "height": 35
    },
    "id": "Kv5ShbogU-1o",
    "outputId": "84e1d4c5-947b-4598-b4ba-0c12cbe26c65"
   },
   "outputs": [
    {
     "data": {
      "text/plain": [
       "646"
      ]
     },
     "execution_count": 108,
     "metadata": {
      "tags": []
     },
     "output_type": "execute_result"
    }
   ],
   "source": [
    "len(pd_oferts_copy['Nombre Barrio'].unique())"
   ]
  },
  {
   "cell_type": "code",
   "execution_count": null,
   "metadata": {
    "colab": {
     "base_uri": "https://localhost:8080/",
     "height": 1000
    },
    "id": "ekpcSQN6VOrM",
    "outputId": "fb805816-a57c-4af9-89ec-8bc79f64cd5d"
   },
   "outputs": [
    {
     "data": {
      "text/plain": [
       "array(['ESTACION CENTRAL', 'COOPERATIVA DE SUB-OFICIALES',\n",
       "       'ARBORIZADORA ALTA', 'SAN PABLO BOSA', 'BOLONIA', 'ANDALUCIA II',\n",
       "       'GUALOCHE', 'VILLA ALSACIA II', 'LA ALAMEDA', 'MEXICO',\n",
       "       'LA ASUNCION', 'ISLA DEL SOL', 'LA PAMPA', 'SAN EUSEBIO',\n",
       "       'EL VERGEL', 'PUERTA DEL SOL', 'VENECIA OCCIDENTAL',\n",
       "       'BARRANQUILLITA', 'LUCERO ALTO', 'VILLA GLORIA', 'CHICALA',\n",
       "       'BELLAVISTA LUCERO ALTO', 'CEDRITOS DEL SUR', 'PRIMAVERA II',\n",
       "       'EL RINCON', 'SANTA FE BOSA', 'BELLA FLOR', 'DANUBIO II',\n",
       "       'QUIBA URBANO', 'LA FISCALA', 'EL MOCHUELO', 'BARLOVENTO',\n",
       "       'NUEVO SAN ANDRES', 'DANUBIO', 'VERGEL OCCIDENTAL',\n",
       "       'LA CABANA FONTIBON', 'COMUNEROS', 'GALICIA', 'LA ANDREA',\n",
       "       'CHUNIZA', 'LOS NARANJOS', 'SANTA LIBRADA', 'LAS VIOLETAS',\n",
       "       'TIHUAQUE', 'SAMORE', 'CIUDAD HUNZA', 'ATLANTA', 'EL VIRREY',\n",
       "       'JACQUELINE', 'CENTRO INDUSTRIAL', 'TTES DE COLOMBIA',\n",
       "       'PERDOMO ALTO', 'GRANJAS DE TECHO', 'SAN CARLOS DE SUBA',\n",
       "       'MONTEVIDEO', 'LAGUNITAS URBANO', 'VERSALLES FONTIBON',\n",
       "       'SAN PEDRO', 'DESARROLLO BRAZUELOS', 'MONTEBLANCO', 'LA CABANA',\n",
       "       'LISBOA', 'VILLA ISRAEL', 'SANTA CECILIA', 'CHARCO URBANO',\n",
       "       'EL PROGRESO USME', 'HIPOTECHO SUR', 'EL NUEVO PORTAL',\n",
       "       'VISION DE ORIENTE', 'EL REFUGIO I', 'CIUDAD KENNEDY SUR',\n",
       "       'LA COMUNA', 'GUSTAVO RESTREPO', 'ABRAHAM LINCOLN', 'VILLA DIANA',\n",
       "       'CANDELARIA LA NUEVA', 'LA ESTRADA', 'EL CARMEN',\n",
       "       'JUAN JOSE RONDON I', 'GRANJAS SAN PABLO', 'SAN AGUSTIN',\n",
       "       'LA PICOTA ORIENTAL', 'VILLA MAYOR', 'SAN PEDRO SUR', 'FATIMA',\n",
       "       'AURES', 'ARBOLEDA SUR', 'LOS SOCHES', 'EL MIRADOR DE LA ESTANCIA',\n",
       "       'ESPINO I', 'JUAN REY SUR', 'SAN CARLOS', 'ARABIA', 'CARACOLI',\n",
       "       'LOS TRES REYES', 'LA VALVANERA', 'SAN JOAQUIN', 'LAS ACACIAS',\n",
       "       'GIRARDOT', 'MARRUECOS', 'CASABLANCA SUBA URBANO', 'SERRANIAS',\n",
       "       'SAN JUAN BAUTISTA', 'DESARROLLO BRAZUELOS I', 'PORVENIR',\n",
       "       'JIMENEZ DE QUESADA II SECTOR', 'ARBORIZADORA ALTA  II',\n",
       "       'EL DORADO', 'LA ESPERANZA DE USME', 'COMPARTIR',\n",
       "       'DIANA TURBAY ARRAYANES', 'SUBA CERROS', 'LA ESTRADITA', 'BRASIL',\n",
       "       'NORMANDIA', 'MEISSEN', 'CHUCUA DE LA VACA I', 'LUSITANIA',\n",
       "       'PIO XII', 'CIUDAD JARDIN NORTE', 'CHARLES DE GAULLE',\n",
       "       'ANTONIA SANTOS', 'REMANSO URBANO', 'ESCOCIA', 'SALITRE SUBA',\n",
       "       'JOSE MARIA CARBONEL', 'BETANIA', 'LOS CEREZOS', 'NIZA SUR',\n",
       "       'JOSE ANTONIO GALAN', 'AURES II', 'VILLA ANNY II', 'CANODROMO',\n",
       "       'TIBABUYES UNIVERSAL', 'CALLEJON SANTA BARBARA',\n",
       "       'VILLAS DEL PROGRESO', 'BERLIN', 'SAN BERNARDINO POTRERITOS',\n",
       "       'BOYACA', 'ALMIRANTE COLON', 'PUENTE ARANDA',\n",
       "       'PUERTA AL LLANO DE USME', 'RINCON ALTAMAR', 'VILLA ANITA',\n",
       "       'VILLA MARIA I', 'EL REMANSO I', 'CHAPINERITO', 'BOSQUE DE PINOS',\n",
       "       'LA CONCORDIA', 'EL NUEVO PORTAL II', 'PARDO RUBIO',\n",
       "       'SAN FELIPE DE USME', 'SALAZAR GOMEZ', 'LA REFORMA',\n",
       "       'CENTRO USME URBANO', 'SIBERIA CENTRAL', 'CASA BLANCA SUBA I',\n",
       "       'EL REAL', 'LA SOLEDAD NORTE', 'SAN JOSE DE BAVARIA',\n",
       "       'LA GAITANA ORIENTAL', 'SANTA HELENITA', 'ANDES NORTE',\n",
       "       'NUEVA ZELANDIA', 'MARIA PAZ', 'BUENAVISTA', 'ONCE DE NOVIEMBRE',\n",
       "       'SAN FELIPE', 'SAN FERNANDO', 'PUENTE GRANDE', 'LA PATRIA',\n",
       "       'SANTA SOFIA', 'SAN FERNANDO OCCIDENTAL', 'SANTA ANA OCCIDENTAL',\n",
       "       'RIONEGRO', 'RAFAEL URIBE', 'SANTA CECILIA PUENTE NORTE',\n",
       "       'SAN LUIS', 'SAN ANTONIO NORTE', 'QUINTA MUTIS', 'MUEQUETA',\n",
       "       'SAN CRISTOBAL NORTE', 'LA MERCED NORTE', 'LA ESPERANZA',\n",
       "       'POLO CLUB', 'EL TOBERIN', 'LA PAZ', 'LAS CRUCES', 'CAPELLANIA',\n",
       "       'COLOMBIA', 'SAN BENITO', 'CAMPIN', 'MODELIA', 'SANTA TERESA',\n",
       "       'PUERTA DE TEJA', 'ALCAZARES', 'BAQUERO',\n",
       "       'SAN PEDRO DE LOS ROBLES', 'GALERIAS', 'LA ESTRELLITA I',\n",
       "       'LA CITA', 'BANCO CENTRAL', 'PABLO VI NORTE', 'CONCEPCION NORTE',\n",
       "       'CAOBOS SALAZAR', 'LA LIBERIA', 'FERROCAJA FONTIBON',\n",
       "       'EL TINTAL CENTRAL', 'ACACIAS USAQUEN', 'LOS CEDROS',\n",
       "       'BELLA SUIZA', 'CEDRITOS', 'LOS CEDROS ORIENTAL', 'GILMAR',\n",
       "       'CANTAGALLO', 'ANTIGUO COUNTRY', 'EL RETIRO', 'BELALCAZAR',\n",
       "       'PALERMO', 'ALFONSO LOPEZ', 'ESTORIL', 'MONACO', 'PASADENA',\n",
       "       'PUENTE LARGO', 'MARIA CRISTINA', 'BOSQUE CALDERON', 'LA SALLE',\n",
       "       'GRANADA', 'SANTA BIBIANA', 'SAN PATRICIO', 'CEDRO SALAZAR',\n",
       "       'CHAPINERO NORTE', 'QUINTA CAMACHO', 'CHICO NORTE',\n",
       "       'CHICO NORTE II SECTOR', 'LAS MARGARITAS', 'CEDRO NARVAEZ',\n",
       "       'EL CONTADOR', 'SANTA BARBARA OCCIDENTAL', 'SANTA BARBARA CENTRAL',\n",
       "       'SANTA BARBARA ORIENTAL', 'SAN JOSE DEL PRADO', 'MOLINOS NORTE',\n",
       "       'ESTRELLA DEL NORTE', 'PRADO VERANIEGO NORTE',\n",
       "       'PRADO VERANIEGO SUR', 'LA CAROLINA', 'RINCON DEL CHICO',\n",
       "       'BELLAVISTA', 'LOS ROSALES', 'EMAUS', 'LA ESPERANZA NORTE',\n",
       "       'TERMINAL DE TRANSPORTES', 'VICTORIA NORTE',\n",
       "       'CHICO NORTE III SECTOR', 'CENTRO FONTIBON', 'SANTA HELENA',\n",
       "       'MAZUREN', 'EL PLAN', 'NICOLAS DE FEDERMAN', 'CAMPIN OCCIDENTAL',\n",
       "       'LA ESPERANZA SUR', 'CIUDAD HAYUELOS', 'LA SOLEDAD',\n",
       "       'LAS AMERICAS', 'LAGO GAITAN', 'LAS VILLAS', 'IBERIA', 'EL CHICO',\n",
       "       'LA CABRERA', 'LA CALLEJA', 'COUNTRY CLUB', 'EL NOGAL',\n",
       "       'PORCIUNCULA', 'ESPARTILLAL', 'ATENAS', 'MODELIA OCCIDENTAL',\n",
       "       'CIUDAD SALITRE SUR-ORIENTAL', 'SANTA TERESITA', 'QUESADA',\n",
       "       'PRADO PINZON', 'SALITRE OCCIDENTAL',\n",
       "       'CIUDAD SALITRE NOR-ORIENTAL', 'NIZA NORTE', 'MANDALAY',\n",
       "       'VERBENAL SAN ANTONIO', 'ACEVEDO TEJADA', 'LAS FERIAS',\n",
       "       'LOS ALPES', 'BELLAVISTA SUR', 'SAN JOSE SUR ORIENTAL', 'ALTAMIRA',\n",
       "       'MORALBA', 'PUENTE COLORADO', 'QUINDIO', 'LA GLORIA ORIENTAL',\n",
       "       'SAN MARTIN SUR', 'LA PRIMAVERA I', 'NUEVA DELHI', 'MODELO SUR',\n",
       "       'LOS LIBERTADORES', 'SANTA RITA SUR ORIENTAL', 'EL PARAISO',\n",
       "       'CANADA O GUIRA', 'ALTOS DEL ZUQUE', 'ALTOS DEL POBLADO',\n",
       "       'LAS GAVIOTAS', 'LAS DOS AVENIDAS', 'NUEVA GLORIA',\n",
       "       'VILLA DEL CERRO', 'LAS GUACAMAYAS IV', 'LAS GUACAMAYAS III',\n",
       "       'LAS GUACAMAYAS I', 'LIBERTADOR', 'POTOSI', 'SANTO DOMINGO',\n",
       "       'CLASS', 'SIERRA MORENA II', 'LAS BRISAS', 'LA BELLEZA',\n",
       "       'PATIO BONITO II', 'SAN RAFAEL USME', 'PASTRANA', 'YOMASA',\n",
       "       'SAN ISIDRO', 'SANTA INES SUR II', 'BAVARIA', 'GRANADA SUR',\n",
       "       'BELLO HORIZONTE', 'CHUCUA DE LA VACA II', 'MONTEBELLO',\n",
       "       'CHUCUA DE LA VACA III', 'CATALINA II', 'LOS LAURELES', 'CORDOBA',\n",
       "       'EL PINAR', 'TINTALITO', 'LAS LOMAS', 'ARBORIZADORA BAJA',\n",
       "       'BARCELONA SUR', 'SAN ANTONIO', 'BUENOS AIRES', 'SAN BERNARDINO I',\n",
       "       'SIERRA MORENA', 'VILLA ANNY I', 'ALQUERIA LA FRAGUA NORTE',\n",
       "       'CHICO SUR', 'TOCAREMA', 'LA PAZ BOSA', 'VITELMA', 'BRASILIA',\n",
       "       'CEMENTERIO JARDINES APOGEO', 'SAN BLAS', 'PASO ANCHO',\n",
       "       'LAS MERCEDES', 'LA VICTORIA', 'SAN CRISTOBAL SUR',\n",
       "       'VILLAS DE GRANADA I', 'BOSA NOVA', 'LAS GUACAMAYAS II',\n",
       "       'VEINTE DE JULIO', 'SAN JAVIER', 'SANTA ANA SUR', 'ARGELIA II',\n",
       "       'LOS SAUCES', 'PRIMERO DE MAYO', 'TIMIZA B', 'ALCALA',\n",
       "       'SAN BLAS II', 'CALVO SUR', 'LA LIBERTAD', 'BOSA', 'LA PRADERA',\n",
       "       'EL PORTAL DEL BRASIL', 'HIPOTECHO', 'SURAMERICA', 'JERUSALEN',\n",
       "       'VELODROMO', 'MONTE CARLO', 'ALTOS DEL ZIPA', 'SOCIEGO',\n",
       "       'SANTA VIVIANA', 'QUINTA RAMOS', 'JIMENEZ DE QUESADA',\n",
       "       'SAN MARTIN', 'PRIMAVERA OCCIDENTAL', 'MARIA CANO', 'EL TESORO',\n",
       "       'LA ESTACION BOSA', 'EL RINCON NORTE', 'SAN RAFAEL',\n",
       "       'AUTOPISTA SUR', 'PARIS GAITAN', 'GRAN COLOMBIANO',\n",
       "       'CIUDAD KENNEDY NORTE', 'AUTOPISTA MUZU', 'SAN VICENTE',\n",
       "       'SAN DIEGO-BOSA', 'CIUDADELA EL RECREO', 'SANTA INES SUR', 'GALAN',\n",
       "       'EL BOSQUE CENTRAL I', 'EL BOSQUE', 'COLON', 'NARINO SUR',\n",
       "       'BOSA NOVA EL PORVENIR', 'RONDA', 'SOTAVENTO', 'CASA DE TEJA',\n",
       "       'ISLANDIA', 'SAN IGNACIO', 'JORGE URIBE BOTERO', 'EL JARDIN',\n",
       "       'REMANSO', 'LA VEGA SAN BERNARDINO', 'JUAN REY (LA PAZ)',\n",
       "       'EL RETAZO', 'SAN BERNARDINO II', 'OSORIO X URBANO', 'EL ENCANTO',\n",
       "       'PROVIVIENDA NORTE', 'LA INDEPENDENCIA', 'TECHO', 'LA MARIA',\n",
       "       'LA GLORIA OCCIDENTAL', 'RAMAJAL', 'ESTRELLA DEL SUR',\n",
       "       'BOLIVIA ORIENTAL', 'EL MIRADOR', 'CANAVERALEJO', 'PRIMAVERA',\n",
       "       'NUEVA GRANADA BOSA', 'GARCES NAVAS SUR', 'TIMIZA A', 'LA SERENA',\n",
       "       'AUTOPISTA MEDELLIN', 'ORTEZAL', 'VILLA AMALIA',\n",
       "       'INDUSTRIAL CENTENARIO', 'SANTA MONICA', 'EL MUELLE',\n",
       "       'LA FISCALA NORTE', 'AGUAS CLARAS I', 'ARRAYANES V',\n",
       "       'MOLINOS DEL SUR', 'RICAURTE', 'LA RESURRECCION', 'PALOQUEMAO',\n",
       "       'EL PORTAL DEL DIVINO', 'CHAPINERO OCCIDENTAL',\n",
       "       'TOCAIMITA ORIENTAL I', 'LOS OLIVARES', 'ARRAYANES I',\n",
       "       'TEUSAQUILLO', 'SAMPER MENDOZA', 'HOSPITAL SAN CARLOS',\n",
       "       'PARAMO URBANO I', 'LA MAGDALENA', 'SABANA DE TIBABUYES',\n",
       "       'SAN GABRIEL NORTE', 'USAQUEN', 'LA SABANA',\n",
       "       'MARCO FIDEL SUAREZ I', 'ARMENIA', 'PROVIVIENDA', 'GORGONZOLA',\n",
       "       'LA FLORIDA OCCIDENTAL', 'EL EJIDO', 'TIBABUYES OCCIDENTAL',\n",
       "       'HORIZONTES NORTE', 'LA CAROLINA DE SUBA', 'LOS EJIDOS',\n",
       "       'LA GRANJA NORTE', 'LA URIBE', 'LAS MERCEDES I', 'VILLA HERMOSA',\n",
       "       'EL VERGEL ORIENTAL', 'OLARTE', 'VEREDA SUBA CERROS II',\n",
       "       'CIUDAD KENNEDY ORIENTAL', 'LUCERO DEL SUR', 'LOS ALAMOS',\n",
       "       'VILLA DEL RIO', 'LAGO DE SUBA', 'LA CHUCUA',\n",
       "       'PROVIVIENDA OCCIDENTAL', 'NUEVA TIBABUYES', 'LECH WALESA',\n",
       "       'PALERMO SUR', 'NIZA SUBA', 'DIANA TURBAY CULTIVOS', 'LA CAMPINA',\n",
       "       'LAS FLORES', 'JOSE JOAQUIN VARGAS', 'EL RUBI', 'POPULAR MODELO',\n",
       "       'PATIO BONITO', 'GRAN BRITALIA I', 'BELLAVISTA OCCIDENTAL',\n",
       "       'VILLA SAGRARIO', 'LUIS CARLOS GALAN', 'OSPINA PEREZ SUR',\n",
       "       'CIUDAD LONDRES I', 'DONA LILIANA', 'LA MARICHUELA', 'VILLEMAR',\n",
       "       'TUNAL ORIENTAL', 'CLARET', 'BOSQUE POPULAR', 'SANTA ISABEL',\n",
       "       'SAN GABRIEL', 'EL MADRIGAL', 'ALAMOS', 'DINDALITO',\n",
       "       'EL DORADO INDUSTRIAL', 'FLORENCIA', 'SAN ANTONIO URBANO',\n",
       "       'LA TRINIDAD', 'LA RIVIERA', 'SAN ANTONIO ENGATIVA', 'LA FAENA',\n",
       "       'PARIS', 'BARCELONA', 'QUIRIGUA ORIENTAL', 'SAN RAFAEL INDUSTRIAL',\n",
       "       'MARANDU', 'SANTA MARIA', 'PENSILVANIA', 'EL MINUTO DE DIOS',\n",
       "       'VILLA GLADYS', 'LA GRANJA', 'ESPINO', 'BOITA', 'LOS LAURELES II',\n",
       "       'SUMAPAZ', 'DINTALITO', 'TIMIZA', 'TIBAQUE URBANO',\n",
       "       'PRADO VERANIEGO', 'AEROPUERTO EL DORADO', 'RESTREPO',\n",
       "       'RESTREPO OCCIDENTAL', 'EL CARMEN FONTIBON',\n",
       "       'SAN JOSE DE FONTIBON', 'LAS DELICIAS', 'OLAYA', 'REMANSO SUR',\n",
       "       'AUTOPISTA MUZU ORIENTAL', 'HIPOTECHO OCCIDENTAL',\n",
       "       'PROVIVIENDA ORIENTAL', 'JULIO FLOREZ', 'BARRANCAS NORTE',\n",
       "       'CLUB DE LOS LAGARTOS', 'BOSQUE DE PINOS III', 'SUBA URBANO',\n",
       "       'EL POA', 'FRANCO', 'BELEN FONTIBON', 'EL CHANCO I',\n",
       "       'LA CAPUCHINA', 'EDUARDO FREY', 'LA FRAGUITA', 'MARLY',\n",
       "       'EL SALITRE', 'SAN CAYETANO', 'VERACRUZ', 'LA CASTELLANA',\n",
       "       'FLORIDA BLANCA', 'VILLA ELISA', 'SANTA ROSA', 'PALO BLANCO',\n",
       "       'EL REFUGIO', 'ENGATIVA ZONA URBANA', 'CENTRO ENGATIVA II',\n",
       "       'SAN MIGUEL', 'ALQUERIA LA FRAGUA', 'SAN FRANCISCO',\n",
       "       'SABANA DEL DORADO', 'CHAPINERO CENTRAL', 'SAN DIEGO', 'BRITALIA',\n",
       "       'ALQUERIA', 'CAMPO HERMOSO', 'VILLA NELLY III SECTOR',\n",
       "       'CIUDADELA EL RECREO II', 'GRAN BRITALIA', 'LA ESMERALDA',\n",
       "       'JUAN XXIII', 'DOCE DE OCTUBRE', 'ROMA', 'EL RECUERDO',\n",
       "       'LOS ANDES', 'VERAGUAS', 'CASA BLANCA SUR', 'SAN PABLO JERICO',\n",
       "       'LA CATEDRAL', 'QUINTA PAREDES', 'ISMAEL PERDOMO', 'LAS ORQUIDEAS',\n",
       "       'CATALINA', 'SIETE DE AGOSTO', 'SAGRADO CORAZON', 'GRAN AMERICA',\n",
       "       'OSPINA PEREZ', 'JORGE GAITAN CORTES', 'MONTES', 'CALANDAIMA',\n",
       "       'LA GIRALDA', 'LA LAGUNA FONTIBON', 'BRISAS ALDEA FONTIBON',\n",
       "       'TIBABITA', 'BARRANCAS', 'TORCA I', 'INTERINDUSTRIAL', 'ESTRELLA',\n",
       "       'CIUDAD BERNA', 'LA REQUILINA', 'CERRO COLORADO', 'BATAN',\n",
       "       'SAMPER', 'EL CHANCO II', 'ALQUERIA LA FRAGUA II', 'MORAVIA',\n",
       "       'ZONA FRANCA', 'KASANDRA', 'GRANADA NORTE',\n",
       "       'ESCUELA DE CARABINEROS', 'BOSQUES DE SAN JORGE', 'TUNA ALTA',\n",
       "       'PORTALES DEL NORTE', 'VILLA DEL PRADO', 'SOSIEGO SUR',\n",
       "       'LA FAVORITA', 'SUCRE', 'MIRANDELA', 'VILLA CARMENZA',\n",
       "       'SANTA BARBARA', 'EL LISTON', 'MADELENA', 'LA CAMELIA',\n",
       "       'CAMELIA II', 'TIBANA', 'CUNDINAMARCA', 'BOCHICA', 'TEJAR',\n",
       "       'SANTA MATILDE'], dtype=object)"
      ]
     },
     "execution_count": 117,
     "metadata": {
      "tags": []
     },
     "output_type": "execute_result"
    }
   ],
   "source": [
    "pd_oferts_copy['Nombre Barrio'].unique()"
   ]
  },
  {
   "cell_type": "markdown",
   "metadata": {
    "id": "PpD_9yPlWIqi"
   },
   "source": [
    "#### Top 20 neighbors with most data"
   ]
  },
  {
   "cell_type": "code",
   "execution_count": null,
   "metadata": {
    "colab": {
     "base_uri": "https://localhost:8080/",
     "height": 402
    },
    "id": "2jUirSK3V5TY",
    "outputId": "48ad774f-4d29-454f-8b84-1a550a389d6d"
   },
   "outputs": [
    {
     "data": {
      "text/plain": [
       "Nombre Barrio\n",
       "PORVENIR                   204\n",
       "SANTA CECILIA              181\n",
       "HIPOTECHO SUR              173\n",
       "CAPELLANIA                 162\n",
       "ATLANTA                    159\n",
       "CIUDAD KENNEDY ORIENTAL    150\n",
       "SANTA TERESA               141\n",
       "EL TOBERIN                 135\n",
       "NUEVA ZELANDIA             133\n",
       "PARDO RUBIO                127\n",
       "NORMANDIA                  125\n",
       "PUENTE ARANDA              125\n",
       "SAN LUIS                   125\n",
       "GALAN                      122\n",
       "SALITRE SUBA               122\n",
       "PIO XII                    115\n",
       "POTOSI                     114\n",
       "LA ESTRADA                 112\n",
       "LA SOLEDAD                 106\n",
       "BOYACA                     104\n",
       "Name: Codigo Predio, dtype: int64"
      ]
     },
     "execution_count": 120,
     "metadata": {
      "tags": []
     },
     "output_type": "execute_result"
    }
   ],
   "source": [
    "pd_oferts_copy.groupby('Nombre Barrio').count()['Codigo Predio'].sort_values(ascending=False).head(20)"
   ]
  },
  {
   "cell_type": "markdown",
   "metadata": {
    "id": "s74AYcaLWRyV"
   },
   "source": [
    "### Type of property"
   ]
  },
  {
   "cell_type": "code",
   "execution_count": null,
   "metadata": {
    "colab": {
     "base_uri": "https://localhost:8080/",
     "height": 35
    },
    "id": "xAdRwd1JWQaZ",
    "outputId": "bcacbc5a-3188-4bb3-ff69-a17a43e6ce09"
   },
   "outputs": [
    {
     "data": {
      "text/plain": [
       "14"
      ]
     },
     "execution_count": 121,
     "metadata": {
      "tags": []
     },
     "output_type": "execute_result"
    }
   ],
   "source": [
    "len(pd_oferts_copy['Tipo Inmueble'].unique())"
   ]
  },
  {
   "cell_type": "code",
   "execution_count": null,
   "metadata": {
    "colab": {
     "base_uri": "https://localhost:8080/",
     "height": 87
    },
    "id": "r5rOwNdFWdwu",
    "outputId": "c343857d-ba78-4f74-ae94-c6e1c7d0c2f8"
   },
   "outputs": [
    {
     "data": {
      "text/plain": [
       "array(['Bodega', 'Casa uso mixto', 'Apartamento', 'Casa', 'Lote', 'Local',\n",
       "       'Inmueble Comercial', 'Dotacional', 'Parqueadero - Lava Autos',\n",
       "       'Edificio', 'Casa lote', 'Garaje', 'Depósito', 'Oficina'],\n",
       "      dtype=object)"
      ]
     },
     "execution_count": 122,
     "metadata": {
      "tags": []
     },
     "output_type": "execute_result"
    }
   ],
   "source": [
    "pd_oferts_copy['Tipo Inmueble'].unique()"
   ]
  },
  {
   "cell_type": "code",
   "execution_count": null,
   "metadata": {
    "colab": {
     "base_uri": "https://localhost:8080/",
     "height": 297
    },
    "id": "wbPFKLzJWhmR",
    "outputId": "457febdb-99ea-4538-b9b0-c0c9cd9a3f0e"
   },
   "outputs": [
    {
     "data": {
      "text/plain": [
       "Tipo Inmueble\n",
       "Casa                        6867\n",
       "Apartamento                 5110\n",
       "Casa uso mixto              3716\n",
       "Bodega                       721\n",
       "Lote                         709\n",
       "Inmueble Comercial           545\n",
       "Edificio                     324\n",
       "Local                        285\n",
       "Oficina                      245\n",
       "Casa lote                    146\n",
       "Garaje                        81\n",
       "Depósito                      14\n",
       "Dotacional                    13\n",
       "Parqueadero - Lava Autos      10\n",
       "Name: Codigo Predio, dtype: int64"
      ]
     },
     "execution_count": 124,
     "metadata": {
      "tags": []
     },
     "output_type": "execute_result"
    }
   ],
   "source": [
    "pd_oferts_copy.groupby('Tipo Inmueble').count()['Codigo Predio'].sort_values(ascending=False)"
   ]
  },
  {
   "cell_type": "code",
   "execution_count": null,
   "metadata": {
    "colab": {
     "base_uri": "https://localhost:8080/",
     "height": 760
    },
    "id": "-37i8KsWWnpW",
    "outputId": "cea63d3e-8152-40a7-fb1e-a3f6fd08016f"
   },
   "outputs": [
    {
     "data": {
      "text/plain": [
       "<matplotlib.axes._subplots.AxesSubplot at 0x7f8cda3aff28>"
      ]
     },
     "execution_count": 126,
     "metadata": {
      "tags": []
     },
     "output_type": "execute_result"
    },
    {
     "data": {
      "image/png": "[encoded data removed]",
      "text/plain": [
       "<Figure size 1080x720 with 1 Axes>"
      ]
     },
     "metadata": {
      "tags": []
     },
     "output_type": "display_data"
    }
   ],
   "source": [
    "pd_oferts_copy.groupby('Tipo Inmueble').count()['Codigo Predio'].sort_values(ascending=False).plot.bar(figsize=(15,10))"
   ]
  },
  {
   "cell_type": "code",
   "execution_count": null,
   "metadata": {
    "colab": {
     "base_uri": "https://localhost:8080/",
     "height": 402
    },
    "id": "v3OD-l7eWznv",
    "outputId": "d5bb3a86-4d03-4882-e971-fe7be1e99591"
   },
   "outputs": [
    {
     "data": {
      "text/plain": [
       "Nombre Barrio             Tipo Inmueble\n",
       "PORVENIR                  Apartamento      186\n",
       "ATLANTA                   Apartamento      156\n",
       "SANTA TERESA              Apartamento      122\n",
       "HIPOTECHO SUR             Apartamento      115\n",
       "PIO XII                   Apartamento      101\n",
       "CAPELLANIA                Apartamento      100\n",
       "PARDO RUBIO               Apartamento       96\n",
       "NUEVA ZELANDIA            Apartamento       95\n",
       "SALITRE SUBA              Apartamento       88\n",
       "SANTA CECILIA             Casa              86\n",
       "EL DORADO INDUSTRIAL      Apartamento       79\n",
       "POTOSI                    Casa              77\n",
       "LOS CEDROS                Apartamento       71\n",
       "SANTA BARBARA OCCIDENTAL  Apartamento       67\n",
       "EL TOBERIN                Apartamento       66\n",
       "TIBANA                    Apartamento       59\n",
       "LA SOLEDAD                Casa              57\n",
       "CIUDAD KENNEDY ORIENTAL   Casa              55\n",
       "HIPOTECHO                 Casa              54\n",
       "BUENOS AIRES              Apartamento       53\n",
       "Name: Codigo Predio, dtype: int64"
      ]
     },
     "execution_count": 129,
     "metadata": {
      "tags": []
     },
     "output_type": "execute_result"
    }
   ],
   "source": [
    "pd_oferts_copy.groupby(['Nombre Barrio','Tipo Inmueble']).count()['Codigo Predio'].sort_values(ascending=False).head(20)"
   ]
  },
  {
   "cell_type": "code",
   "execution_count": null,
   "metadata": {
    "colab": {
     "base_uri": "https://localhost:8080/",
     "height": 875
    },
    "id": "ayVUYBIkXR2l",
    "outputId": "4940bf6a-4a1d-4718-d137-3771084ea4e6"
   },
   "outputs": [
    {
     "data": {
      "text/plain": [
       "<matplotlib.axes._subplots.AxesSubplot at 0x7f8cd5b10240>"
      ]
     },
     "execution_count": 133,
     "metadata": {
      "tags": []
     },
     "output_type": "execute_result"
    },
    {
     "data": {
      "image/png": "[encoded data removed]",
      "text/plain": [
       "<Figure size 1800x720 with 1 Axes>"
      ]
     },
     "metadata": {
      "tags": []
     },
     "output_type": "display_data"
    }
   ],
   "source": [
    "pd_oferts_copy.groupby(['Nombre Barrio','Tipo Inmueble']).count()['Codigo Predio'].sort_values(ascending=False).head(25).plot.bar(figsize=(25,10))"
   ]
  },
  {
   "cell_type": "markdown",
   "metadata": {
    "id": "SCwy2FhDXAq7"
   },
   "source": [
    " In general there're more 'Casa' as Property type but in the top 20 Neighbors there're more 'Apartamentos'"
   ]
  },
  {
   "cell_type": "markdown",
   "metadata": {
    "id": "9pFOQGs9OVH6"
   },
   "source": [
    "### Describe main numeric columns"
   ]
  },
  {
   "cell_type": "code",
   "execution_count": null,
   "metadata": {
    "colab": {
     "base_uri": "https://localhost:8080/",
     "height": 162
    },
    "id": "UIOCzKvYa-yu",
    "outputId": "1e90ca8d-6116-47e2-f187-2213a77b0cba"
   },
   "outputs": [
    {
     "data": {
      "text/html": [
       "<div>\n",
       "<style scoped>\n",
       "    .dataframe tbody tr th:only-of-type {\n",
       "        vertical-align: middle;\n",
       "    }\n",
       "\n",
       "    .dataframe tbody tr th {\n",
       "        vertical-align: top;\n",
       "    }\n",
       "\n",
       "    .dataframe thead th {\n",
       "        text-align: right;\n",
       "    }\n",
       "</style>\n",
       "<table border=\"1\" class=\"dataframe\">\n",
       "  <thead>\n",
       "    <tr style=\"text-align: right;\">\n",
       "      <th></th>\n",
       "      <th>Vr Inicial Venta</th>\n",
       "      <th>Vr Final Venta</th>\n",
       "      <th>Vr Inicial Arriendo</th>\n",
       "      <th>Vr Final Arriendo</th>\n",
       "    </tr>\n",
       "  </thead>\n",
       "  <tbody>\n",
       "    <tr>\n",
       "      <th>count</th>\n",
       "      <td>18786</td>\n",
       "      <td>18786</td>\n",
       "      <td>18786</td>\n",
       "      <td>18786</td>\n",
       "    </tr>\n",
       "    <tr>\n",
       "      <th>unique</th>\n",
       "      <td>549</td>\n",
       "      <td>746</td>\n",
       "      <td>431</td>\n",
       "      <td>566</td>\n",
       "    </tr>\n",
       "    <tr>\n",
       "      <th>top</th>\n",
       "      <td>0</td>\n",
       "      <td>0</td>\n",
       "      <td>0</td>\n",
       "      <td>0</td>\n",
       "    </tr>\n",
       "    <tr>\n",
       "      <th>freq</th>\n",
       "      <td>9091</td>\n",
       "      <td>9091</td>\n",
       "      <td>13275</td>\n",
       "      <td>13279</td>\n",
       "    </tr>\n",
       "  </tbody>\n",
       "</table>\n",
       "</div>"
      ],
      "text/plain": [
       "       Vr Inicial Venta Vr Final Venta Vr Inicial Arriendo Vr Final Arriendo\n",
       "count             18786          18786               18786             18786\n",
       "unique              549            746                 431               566\n",
       "top                   0              0                   0                 0\n",
       "freq               9091           9091               13275             13279"
      ]
     },
     "execution_count": 87,
     "metadata": {
      "tags": []
     },
     "output_type": "execute_result"
    }
   ],
   "source": [
    "pd_oferts_copy[vr_cols].describe()"
   ]
  },
  {
   "cell_type": "code",
   "execution_count": null,
   "metadata": {
    "colab": {
     "base_uri": "https://localhost:8080/",
     "height": 367
    },
    "id": "0vWdcpSdaH3v",
    "outputId": "d0db895f-99df-4e4c-92df-636d464164d6"
   },
   "outputs": [
    {
     "data": {
      "text/plain": [
       "Nombre Barrio           object\n",
       "Codigo Barrio            int64\n",
       "Codigo Manzana           int64\n",
       "Codigo Predio            int64\n",
       "Codigo Construccion      int64\n",
       "Codigo Resto             int64\n",
       "Fecha De Cargue         object\n",
       "Direccion               object\n",
       "Codigo Oferta           object\n",
       "Tipo Oferta             object\n",
       "Tipo Inmueble           object\n",
       "Fuente                  object\n",
       "Chip                    object\n",
       "Area Terreno            object\n",
       "Area Construida         object\n",
       "Vr Inicial Venta       float64\n",
       "Vr Final Venta         float64\n",
       "Vr Inicial Arriendo    float64\n",
       "Vr Final Arriendo      float64\n",
       "dtype: object"
      ]
     },
     "execution_count": 88,
     "metadata": {
      "tags": []
     },
     "output_type": "execute_result"
    }
   ],
   "source": [
    "for vr in vr_cols:\n",
    "  pd_oferts_copy[vr] = pd_oferts_copy[vr].map(lambda x: float(x))\n",
    "\n",
    "pd_oferts_copy.dtypes"
   ]
  },
  {
   "cell_type": "code",
   "execution_count": null,
   "metadata": {
    "colab": {
     "base_uri": "https://localhost:8080/",
     "height": 277
    },
    "id": "qbKAfuV7ZlFw",
    "outputId": "003dae9b-5454-4d8e-e83f-165f9bd6c3f1"
   },
   "outputs": [
    {
     "data": {
      "text/html": [
       "<div>\n",
       "<style scoped>\n",
       "    .dataframe tbody tr th:only-of-type {\n",
       "        vertical-align: middle;\n",
       "    }\n",
       "\n",
       "    .dataframe tbody tr th {\n",
       "        vertical-align: top;\n",
       "    }\n",
       "\n",
       "    .dataframe thead th {\n",
       "        text-align: right;\n",
       "    }\n",
       "</style>\n",
       "<table border=\"1\" class=\"dataframe\">\n",
       "  <thead>\n",
       "    <tr style=\"text-align: right;\">\n",
       "      <th></th>\n",
       "      <th>Codigo Barrio</th>\n",
       "      <th>Codigo Manzana</th>\n",
       "      <th>Codigo Predio</th>\n",
       "      <th>Codigo Construccion</th>\n",
       "      <th>Codigo Resto</th>\n",
       "      <th>Vr Inicial Venta</th>\n",
       "      <th>Vr Final Venta</th>\n",
       "      <th>Vr Inicial Arriendo</th>\n",
       "      <th>Vr Final Arriendo</th>\n",
       "    </tr>\n",
       "  </thead>\n",
       "  <tbody>\n",
       "    <tr>\n",
       "      <th>count</th>\n",
       "      <td>18786.000000</td>\n",
       "      <td>18786.000000</td>\n",
       "      <td>18786.000000</td>\n",
       "      <td>18786.000000</td>\n",
       "      <td>18786.00000</td>\n",
       "      <td>1.878600e+04</td>\n",
       "      <td>1.878600e+04</td>\n",
       "      <td>1.878600e+04</td>\n",
       "      <td>1.878600e+04</td>\n",
       "    </tr>\n",
       "    <tr>\n",
       "      <th>mean</th>\n",
       "      <td>5332.023848</td>\n",
       "      <td>31.360481</td>\n",
       "      <td>16.003886</td>\n",
       "      <td>1.387150</td>\n",
       "      <td>1418.02949</td>\n",
       "      <td>3.794088e+08</td>\n",
       "      <td>3.716517e+08</td>\n",
       "      <td>9.110453e+05</td>\n",
       "      <td>9.004428e+05</td>\n",
       "    </tr>\n",
       "    <tr>\n",
       "      <th>std</th>\n",
       "      <td>2731.475968</td>\n",
       "      <td>24.438576</td>\n",
       "      <td>14.340445</td>\n",
       "      <td>8.543562</td>\n",
       "      <td>5770.91653</td>\n",
       "      <td>3.592018e+09</td>\n",
       "      <td>3.530828e+09</td>\n",
       "      <td>9.802260e+06</td>\n",
       "      <td>9.731890e+06</td>\n",
       "    </tr>\n",
       "    <tr>\n",
       "      <th>min</th>\n",
       "      <td>1101.000000</td>\n",
       "      <td>1.000000</td>\n",
       "      <td>1.000000</td>\n",
       "      <td>0.000000</td>\n",
       "      <td>0.00000</td>\n",
       "      <td>0.000000e+00</td>\n",
       "      <td>0.000000e+00</td>\n",
       "      <td>0.000000e+00</td>\n",
       "      <td>0.000000e+00</td>\n",
       "    </tr>\n",
       "    <tr>\n",
       "      <th>25%</th>\n",
       "      <td>4210.000000</td>\n",
       "      <td>11.000000</td>\n",
       "      <td>5.000000</td>\n",
       "      <td>0.000000</td>\n",
       "      <td>0.00000</td>\n",
       "      <td>0.000000e+00</td>\n",
       "      <td>0.000000e+00</td>\n",
       "      <td>0.000000e+00</td>\n",
       "      <td>0.000000e+00</td>\n",
       "    </tr>\n",
       "    <tr>\n",
       "      <th>50%</th>\n",
       "      <td>5111.000000</td>\n",
       "      <td>25.000000</td>\n",
       "      <td>12.000000</td>\n",
       "      <td>0.000000</td>\n",
       "      <td>0.00000</td>\n",
       "      <td>9.000000e+07</td>\n",
       "      <td>8.709300e+07</td>\n",
       "      <td>0.000000e+00</td>\n",
       "      <td>0.000000e+00</td>\n",
       "    </tr>\n",
       "    <tr>\n",
       "      <th>75%</th>\n",
       "      <td>7104.000000</td>\n",
       "      <td>46.000000</td>\n",
       "      <td>22.000000</td>\n",
       "      <td>1.000000</td>\n",
       "      <td>1007.00000</td>\n",
       "      <td>3.600000e+08</td>\n",
       "      <td>3.503160e+08</td>\n",
       "      <td>5.800000e+05</td>\n",
       "      <td>5.752500e+05</td>\n",
       "    </tr>\n",
       "    <tr>\n",
       "      <th>max</th>\n",
       "      <td>205401.000000</td>\n",
       "      <td>99.000000</td>\n",
       "      <td>99.000000</td>\n",
       "      <td>272.000000</td>\n",
       "      <td>95001.00000</td>\n",
       "      <td>3.500000e+11</td>\n",
       "      <td>3.440000e+11</td>\n",
       "      <td>9.300000e+08</td>\n",
       "      <td>9.210720e+08</td>\n",
       "    </tr>\n",
       "  </tbody>\n",
       "</table>\n",
       "</div>"
      ],
      "text/plain": [
       "       Codigo Barrio  Codigo Manzana  ...  Vr Inicial Arriendo  Vr Final Arriendo\n",
       "count   18786.000000    18786.000000  ...         1.878600e+04       1.878600e+04\n",
       "mean     5332.023848       31.360481  ...         9.110453e+05       9.004428e+05\n",
       "std      2731.475968       24.438576  ...         9.802260e+06       9.731890e+06\n",
       "min      1101.000000        1.000000  ...         0.000000e+00       0.000000e+00\n",
       "25%      4210.000000       11.000000  ...         0.000000e+00       0.000000e+00\n",
       "50%      5111.000000       25.000000  ...         0.000000e+00       0.000000e+00\n",
       "75%      7104.000000       46.000000  ...         5.800000e+05       5.752500e+05\n",
       "max    205401.000000       99.000000  ...         9.300000e+08       9.210720e+08\n",
       "\n",
       "[8 rows x 9 columns]"
      ]
     },
     "execution_count": 89,
     "metadata": {
      "tags": []
     },
     "output_type": "execute_result"
    }
   ],
   "source": [
    "pd_oferts_copy.describe()"
   ]
  },
  {
   "cell_type": "code",
   "execution_count": null,
   "metadata": {
    "colab": {
     "base_uri": "https://localhost:8080/",
     "height": 622
    },
    "id": "cS1W7GjOZpD8",
    "outputId": "1d3804b2-4ff3-4f8b-fcea-b8f92c353886"
   },
   "outputs": [
    {
     "data": {
      "text/plain": [
       "<matplotlib.axes._subplots.AxesSubplot at 0x7f8cda792668>"
      ]
     },
     "execution_count": 90,
     "metadata": {
      "tags": []
     },
     "output_type": "execute_result"
    },
    {
     "data": {
      "image/png": "[encoded data removed]",
      "text/plain": [
       "<Figure size 1080x720 with 1 Axes>"
      ]
     },
     "metadata": {
      "needs_background": "light",
      "tags": []
     },
     "output_type": "display_data"
    }
   ],
   "source": [
    "pd_oferts_copy[['Vr Inicial Venta','Vr Final Venta']].boxplot(figsize=(15,10))"
   ]
  },
  {
   "cell_type": "code",
   "execution_count": null,
   "metadata": {
    "colab": {
     "base_uri": "https://localhost:8080/",
     "height": 622
    },
    "id": "U0bcRIZ-OuXQ",
    "outputId": "06bd85dc-8002-49a3-d35d-29560a47af08"
   },
   "outputs": [
    {
     "data": {
      "text/plain": [
       "<matplotlib.axes._subplots.AxesSubplot at 0x7f8cd9d67fd0>"
      ]
     },
     "execution_count": 91,
     "metadata": {
      "tags": []
     },
     "output_type": "execute_result"
    },
    {
     "data": {
      "image/png": "[encoded data removed]",
      "text/plain": [
       "<Figure size 1080x720 with 1 Axes>"
      ]
     },
     "metadata": {
      "needs_background": "light",
      "tags": []
     },
     "output_type": "display_data"
    }
   ],
   "source": [
    "pd_oferts_copy[['Vr Inicial Arriendo','Vr Final Arriendo']].boxplot(figsize=(15,10))"
   ]
  },
  {
   "cell_type": "code",
   "execution_count": null,
   "metadata": {
    "id": "fU83-MwFO-4Q"
   },
   "outputs": [],
   "source": [
    "pd_oferts_copy['Fecha De Cargue'] = pd.to_datetime(pd_oferts_copy['Fecha De Cargue'])\n",
    "pd_oferts_copy['Year'] = pd_oferts_copy['Fecha De Cargue'].map(lambda x:x.year)\n",
    "pd_oferts_copy['Month'] = pd_oferts_copy['Fecha De Cargue'].map(lambda x:x.month)"
   ]
  },
  {
   "cell_type": "code",
   "execution_count": null,
   "metadata": {
    "colab": {
     "base_uri": "https://localhost:8080/",
     "height": 402
    },
    "id": "tyYJm34MP4Qz",
    "outputId": "99d4400c-5a0a-49db-c671-0e8b35bf832a"
   },
   "outputs": [
    {
     "data": {
      "text/plain": [
       "Nombre Barrio                       object\n",
       "Codigo Barrio                        int64\n",
       "Codigo Manzana                       int64\n",
       "Codigo Predio                        int64\n",
       "Codigo Construccion                  int64\n",
       "Codigo Resto                         int64\n",
       "Fecha De Cargue        datetime64[ns, UTC]\n",
       "Direccion                           object\n",
       "Codigo Oferta                       object\n",
       "Tipo Oferta                         object\n",
       "Tipo Inmueble                       object\n",
       "Fuente                              object\n",
       "Chip                                object\n",
       "Area Terreno                        object\n",
       "Area Construida                     object\n",
       "Vr Inicial Venta                   float64\n",
       "Vr Final Venta                     float64\n",
       "Vr Inicial Arriendo                float64\n",
       "Vr Final Arriendo                  float64\n",
       "Year                                 int64\n",
       "Month                                int64\n",
       "dtype: object"
      ]
     },
     "execution_count": 93,
     "metadata": {
      "tags": []
     },
     "output_type": "execute_result"
    }
   ],
   "source": [
    "pd_oferts_copy.dtypes"
   ]
  },
  {
   "cell_type": "markdown",
   "metadata": {
    "id": "UAAxvx3TQ3Mo"
   },
   "source": [
    "### Distribution of data upload among time"
   ]
  },
  {
   "cell_type": "code",
   "execution_count": null,
   "metadata": {
    "colab": {
     "base_uri": "https://localhost:8080/",
     "height": 676
    },
    "id": "Gx918Hr-PY2J",
    "outputId": "061b034a-79ad-47ff-a416-9794d51c01a1"
   },
   "outputs": [
    {
     "data": {
      "text/plain": [
       "<matplotlib.axes._subplots.AxesSubplot at 0x7f8cd9d43c88>"
      ]
     },
     "execution_count": 94,
     "metadata": {
      "tags": []
     },
     "output_type": "execute_result"
    },
    {
     "data": {
      "image/png": "[encoded data removed]",
      "text/plain": [
       "<Figure size 1080x720 with 1 Axes>"
      ]
     },
     "metadata": {
      "needs_background": "light",
      "tags": []
     },
     "output_type": "display_data"
    }
   ],
   "source": [
    "pd_oferts_copy.groupby(['Year','Month']).count()['Codigo Predio'].plot.bar(figsize=(15,10))"
   ]
  },
  {
   "cell_type": "markdown",
   "metadata": {
    "id": "N7Wf3_aHRX6t"
   },
   "source": [
    "### Distribution of inicial and final sale price"
   ]
  },
  {
   "cell_type": "code",
   "execution_count": null,
   "metadata": {
    "colab": {
     "base_uri": "https://localhost:8080/",
     "height": 640
    },
    "id": "WBkqo6FWP0Pi",
    "outputId": "89b3c3d1-efe1-4162-f466-a33f8122df6f"
   },
   "outputs": [
    {
     "data": {
      "text/plain": [
       "<matplotlib.axes._subplots.AxesSubplot at 0x7f8cd9d43e10>"
      ]
     },
     "execution_count": 95,
     "metadata": {
      "tags": []
     },
     "output_type": "execute_result"
    },
    {
     "data": {
      "image/png": "[encoded data removed]",
      "text/plain": [
       "<Figure size 1080x720 with 1 Axes>"
      ]
     },
     "metadata": {
      "needs_background": "light",
      "tags": []
     },
     "output_type": "display_data"
    }
   ],
   "source": [
    "pd_oferts_copy.groupby(['Year','Month']).mean()[vr_cols[0:2]].plot(figsize=(15,10))"
   ]
  },
  {
   "cell_type": "markdown",
   "metadata": {
    "id": "s6qQ1HJeRe1N"
   },
   "source": [
    "### Distribution of initial and final rent price"
   ]
  },
  {
   "cell_type": "code",
   "execution_count": null,
   "metadata": {
    "colab": {
     "base_uri": "https://localhost:8080/",
     "height": 640
    },
    "id": "B0DPTbenRRdR",
    "outputId": "970e0a78-6121-4d20-ca60-4292dc52a728"
   },
   "outputs": [
    {
     "data": {
      "text/plain": [
       "<matplotlib.axes._subplots.AxesSubplot at 0x7f8cd9a3b2b0>"
      ]
     },
     "execution_count": 96,
     "metadata": {
      "tags": []
     },
     "output_type": "execute_result"
    },
    {
     "data": {
      "image/png": "[encoded data removed]",
      "text/plain": [
       "<Figure size 1080x720 with 1 Axes>"
      ]
     },
     "metadata": {
      "needs_background": "light",
      "tags": []
     },
     "output_type": "display_data"
    }
   ],
   "source": [
    "pd_oferts_copy.groupby(['Year','Month']).mean()[vr_cols[2:4]].plot(figsize=(15,10))"
   ]
  },
  {
   "cell_type": "markdown",
   "metadata": {
    "id": "Q_6FZnhFSnt8"
   },
   "source": [
    "### Correlation prices vs area"
   ]
  },
  {
   "cell_type": "code",
   "execution_count": null,
   "metadata": {
    "colab": {
     "base_uri": "https://localhost:8080/",
     "height": 305
    },
    "id": "76sf5HrkSk8Z",
    "outputId": "e0458067-9bc3-49f0-9a97-b3db4e8dc0a9"
   },
   "outputs": [
    {
     "data": {
      "text/html": [
       "<div>\n",
       "<style scoped>\n",
       "    .dataframe tbody tr th:only-of-type {\n",
       "        vertical-align: middle;\n",
       "    }\n",
       "\n",
       "    .dataframe tbody tr th {\n",
       "        vertical-align: top;\n",
       "    }\n",
       "\n",
       "    .dataframe thead th {\n",
       "        text-align: right;\n",
       "    }\n",
       "</style>\n",
       "<table border=\"1\" class=\"dataframe\">\n",
       "  <thead>\n",
       "    <tr style=\"text-align: right;\">\n",
       "      <th></th>\n",
       "      <th>Nombre Barrio</th>\n",
       "      <th>Codigo Barrio</th>\n",
       "      <th>Codigo Manzana</th>\n",
       "      <th>Codigo Predio</th>\n",
       "      <th>Codigo Construccion</th>\n",
       "      <th>Codigo Resto</th>\n",
       "      <th>Fecha De Cargue</th>\n",
       "      <th>Direccion</th>\n",
       "      <th>Codigo Oferta</th>\n",
       "      <th>Tipo Oferta</th>\n",
       "      <th>Tipo Inmueble</th>\n",
       "      <th>Fuente</th>\n",
       "      <th>Chip</th>\n",
       "      <th>Area Terreno</th>\n",
       "      <th>Area Construida</th>\n",
       "      <th>Vr Inicial Venta</th>\n",
       "      <th>Vr Final Venta</th>\n",
       "      <th>Vr Inicial Arriendo</th>\n",
       "      <th>Vr Final Arriendo</th>\n",
       "      <th>Year</th>\n",
       "      <th>Month</th>\n",
       "    </tr>\n",
       "  </thead>\n",
       "  <tbody>\n",
       "    <tr>\n",
       "      <th>0</th>\n",
       "      <td>ESTACION CENTRAL</td>\n",
       "      <td>6204</td>\n",
       "      <td>17</td>\n",
       "      <td>15</td>\n",
       "      <td>0</td>\n",
       "      <td>0</td>\n",
       "      <td>2019-09-30 00:00:00+00:00</td>\n",
       "      <td>KR 33 17 27</td>\n",
       "      <td>5,00E+05</td>\n",
       "      <td>VENTA</td>\n",
       "      <td>Bodega</td>\n",
       "      <td>CAMPO</td>\n",
       "      <td>AAA0251LMRJ</td>\n",
       "      <td>2060.8</td>\n",
       "      <td>2306</td>\n",
       "      <td>7.000000e+09</td>\n",
       "      <td>6.880300e+09</td>\n",
       "      <td>0.0</td>\n",
       "      <td>0.0</td>\n",
       "      <td>2019</td>\n",
       "      <td>9</td>\n",
       "    </tr>\n",
       "    <tr>\n",
       "      <th>1</th>\n",
       "      <td>COOPERATIVA DE SUB-OFICIALES</td>\n",
       "      <td>6501</td>\n",
       "      <td>3</td>\n",
       "      <td>10</td>\n",
       "      <td>0</td>\n",
       "      <td>0</td>\n",
       "      <td>2019-09-30 00:00:00+00:00</td>\n",
       "      <td>KR 71F 12 02</td>\n",
       "      <td>500001</td>\n",
       "      <td>VENTA</td>\n",
       "      <td>Casa uso mixto</td>\n",
       "      <td>CAMPO</td>\n",
       "      <td>AAA0080RXPP</td>\n",
       "      <td>100.1</td>\n",
       "      <td>211.3</td>\n",
       "      <td>0.000000e+00</td>\n",
       "      <td>0.000000e+00</td>\n",
       "      <td>0.0</td>\n",
       "      <td>0.0</td>\n",
       "      <td>2019</td>\n",
       "      <td>9</td>\n",
       "    </tr>\n",
       "    <tr>\n",
       "      <th>2</th>\n",
       "      <td>ESTACION CENTRAL</td>\n",
       "      <td>6204</td>\n",
       "      <td>4</td>\n",
       "      <td>4</td>\n",
       "      <td>1</td>\n",
       "      <td>6011</td>\n",
       "      <td>2019-09-30 00:00:00+00:00</td>\n",
       "      <td>CL 14 30 17 AP 611</td>\n",
       "      <td>500002</td>\n",
       "      <td>ARRIENDO</td>\n",
       "      <td>Apartamento</td>\n",
       "      <td>CAMPO</td>\n",
       "      <td>AAA0164RCHY</td>\n",
       "      <td>18.04</td>\n",
       "      <td>50.44</td>\n",
       "      <td>0.000000e+00</td>\n",
       "      <td>0.000000e+00</td>\n",
       "      <td>0.0</td>\n",
       "      <td>0.0</td>\n",
       "      <td>2019</td>\n",
       "      <td>9</td>\n",
       "    </tr>\n",
       "    <tr>\n",
       "      <th>3</th>\n",
       "      <td>ARBORIZADORA ALTA</td>\n",
       "      <td>2568</td>\n",
       "      <td>10</td>\n",
       "      <td>14</td>\n",
       "      <td>0</td>\n",
       "      <td>0</td>\n",
       "      <td>2019-09-30 00:00:00+00:00</td>\n",
       "      <td>CL 74 SUR 38A 60</td>\n",
       "      <td>500003</td>\n",
       "      <td>ARRIENDO PARCIAL</td>\n",
       "      <td>Casa uso mixto</td>\n",
       "      <td>CAMPO</td>\n",
       "      <td>AAA0028RFAF</td>\n",
       "      <td>42</td>\n",
       "      <td>42</td>\n",
       "      <td>0.000000e+00</td>\n",
       "      <td>0.000000e+00</td>\n",
       "      <td>1200000.0</td>\n",
       "      <td>1178000.0</td>\n",
       "      <td>2019</td>\n",
       "      <td>9</td>\n",
       "    </tr>\n",
       "    <tr>\n",
       "      <th>4</th>\n",
       "      <td>ARBORIZADORA ALTA</td>\n",
       "      <td>2568</td>\n",
       "      <td>10</td>\n",
       "      <td>12</td>\n",
       "      <td>0</td>\n",
       "      <td>0</td>\n",
       "      <td>2019-09-30 00:00:00+00:00</td>\n",
       "      <td>CL 74 SUR 38A 52</td>\n",
       "      <td>500004</td>\n",
       "      <td>VENTA</td>\n",
       "      <td>Casa uso mixto</td>\n",
       "      <td>CAMPO</td>\n",
       "      <td>AAA0028REYN</td>\n",
       "      <td>42</td>\n",
       "      <td>130.2</td>\n",
       "      <td>1.500000e+08</td>\n",
       "      <td>1.453350e+08</td>\n",
       "      <td>0.0</td>\n",
       "      <td>0.0</td>\n",
       "      <td>2019</td>\n",
       "      <td>9</td>\n",
       "    </tr>\n",
       "  </tbody>\n",
       "</table>\n",
       "</div>"
      ],
      "text/plain": [
       "                  Nombre Barrio  Codigo Barrio  ...  Year  Month\n",
       "0              ESTACION CENTRAL           6204  ...  2019      9\n",
       "1  COOPERATIVA DE SUB-OFICIALES           6501  ...  2019      9\n",
       "2              ESTACION CENTRAL           6204  ...  2019      9\n",
       "3             ARBORIZADORA ALTA           2568  ...  2019      9\n",
       "4             ARBORIZADORA ALTA           2568  ...  2019      9\n",
       "\n",
       "[5 rows x 21 columns]"
      ]
     },
     "execution_count": 97,
     "metadata": {
      "tags": []
     },
     "output_type": "execute_result"
    }
   ],
   "source": [
    "pd_oferts_copy.head()"
   ]
  },
  {
   "cell_type": "code",
   "execution_count": null,
   "metadata": {
    "colab": {
     "base_uri": "https://localhost:8080/",
     "height": 402
    },
    "id": "5AMm7jVCT25X",
    "outputId": "2a76ef6b-a7f2-410c-c55f-4e60f6b69203"
   },
   "outputs": [
    {
     "data": {
      "text/plain": [
       "Nombre Barrio                       object\n",
       "Codigo Barrio                        int64\n",
       "Codigo Manzana                       int64\n",
       "Codigo Predio                        int64\n",
       "Codigo Construccion                  int64\n",
       "Codigo Resto                         int64\n",
       "Fecha De Cargue        datetime64[ns, UTC]\n",
       "Direccion                           object\n",
       "Codigo Oferta                       object\n",
       "Tipo Oferta                         object\n",
       "Tipo Inmueble                       object\n",
       "Fuente                              object\n",
       "Chip                                object\n",
       "Area Terreno                        object\n",
       "Area Construida                     object\n",
       "Vr Inicial Venta                   float64\n",
       "Vr Final Venta                     float64\n",
       "Vr Inicial Arriendo                float64\n",
       "Vr Final Arriendo                  float64\n",
       "Year                                 int64\n",
       "Month                                int64\n",
       "dtype: object"
      ]
     },
     "execution_count": 99,
     "metadata": {
      "tags": []
     },
     "output_type": "execute_result"
    }
   ],
   "source": [
    "for ar in area_cols:\n",
    "  pd_oferts_copy[ar] = pd_oferts_copy[ar].map(lambda x: x.replace('-','0'))\n",
    "\n",
    "pd_oferts_copy.dtypes"
   ]
  },
  {
   "cell_type": "code",
   "execution_count": null,
   "metadata": {
    "colab": {
     "base_uri": "https://localhost:8080/",
     "height": 402
    },
    "id": "iZVFFip1TXJz",
    "outputId": "528ad968-f8ba-4450-8581-ae2e96b831af"
   },
   "outputs": [
    {
     "data": {
      "text/plain": [
       "Nombre Barrio                       object\n",
       "Codigo Barrio                        int64\n",
       "Codigo Manzana                       int64\n",
       "Codigo Predio                        int64\n",
       "Codigo Construccion                  int64\n",
       "Codigo Resto                         int64\n",
       "Fecha De Cargue        datetime64[ns, UTC]\n",
       "Direccion                           object\n",
       "Codigo Oferta                       object\n",
       "Tipo Oferta                         object\n",
       "Tipo Inmueble                       object\n",
       "Fuente                              object\n",
       "Chip                                object\n",
       "Area Terreno                       float64\n",
       "Area Construida                    float64\n",
       "Vr Inicial Venta                   float64\n",
       "Vr Final Venta                     float64\n",
       "Vr Inicial Arriendo                float64\n",
       "Vr Final Arriendo                  float64\n",
       "Year                                 int64\n",
       "Month                                int64\n",
       "dtype: object"
      ]
     },
     "execution_count": 100,
     "metadata": {
      "tags": []
     },
     "output_type": "execute_result"
    }
   ],
   "source": [
    "for ar in area_cols:\n",
    "  pd_oferts_copy[ar] = pd_oferts_copy[ar].map(lambda x: float(x))\n",
    "\n",
    "pd_oferts_copy.dtypes"
   ]
  },
  {
   "cell_type": "code",
   "execution_count": null,
   "metadata": {
    "colab": {
     "base_uri": "https://localhost:8080/",
     "height": 162
    },
    "id": "x0GZ-w5PRHAF",
    "outputId": "c4f6a823-36b0-4a8a-91e4-c1ec717abf41"
   },
   "outputs": [
    {
     "data": {
      "text/html": [
       "<div>\n",
       "<style scoped>\n",
       "    .dataframe tbody tr th:only-of-type {\n",
       "        vertical-align: middle;\n",
       "    }\n",
       "\n",
       "    .dataframe tbody tr th {\n",
       "        vertical-align: top;\n",
       "    }\n",
       "\n",
       "    .dataframe thead th {\n",
       "        text-align: right;\n",
       "    }\n",
       "</style>\n",
       "<table border=\"1\" class=\"dataframe\">\n",
       "  <thead>\n",
       "    <tr style=\"text-align: right;\">\n",
       "      <th></th>\n",
       "      <th>Area Terreno</th>\n",
       "      <th>Area Construida</th>\n",
       "      <th>Vr Inicial Venta</th>\n",
       "      <th>Vr Final Venta</th>\n",
       "    </tr>\n",
       "  </thead>\n",
       "  <tbody>\n",
       "    <tr>\n",
       "      <th>Area Terreno</th>\n",
       "      <td>1.000000</td>\n",
       "      <td>0.253856</td>\n",
       "      <td>0.483457</td>\n",
       "      <td>0.483922</td>\n",
       "    </tr>\n",
       "    <tr>\n",
       "      <th>Area Construida</th>\n",
       "      <td>0.253856</td>\n",
       "      <td>1.000000</td>\n",
       "      <td>0.051896</td>\n",
       "      <td>0.051778</td>\n",
       "    </tr>\n",
       "    <tr>\n",
       "      <th>Vr Inicial Venta</th>\n",
       "      <td>0.483457</td>\n",
       "      <td>0.051896</td>\n",
       "      <td>1.000000</td>\n",
       "      <td>0.999534</td>\n",
       "    </tr>\n",
       "    <tr>\n",
       "      <th>Vr Final Venta</th>\n",
       "      <td>0.483922</td>\n",
       "      <td>0.051778</td>\n",
       "      <td>0.999534</td>\n",
       "      <td>1.000000</td>\n",
       "    </tr>\n",
       "  </tbody>\n",
       "</table>\n",
       "</div>"
      ],
      "text/plain": [
       "                  Area Terreno  ...  Vr Final Venta\n",
       "Area Terreno          1.000000  ...        0.483922\n",
       "Area Construida       0.253856  ...        0.051778\n",
       "Vr Inicial Venta      0.483457  ...        0.999534\n",
       "Vr Final Venta        0.483922  ...        1.000000\n",
       "\n",
       "[4 rows x 4 columns]"
      ]
     },
     "execution_count": 103,
     "metadata": {
      "tags": []
     },
     "output_type": "execute_result"
    }
   ],
   "source": [
    "corrMatrix = pd_oferts_copy[['Area Terreno','Area Construida','Vr Inicial Venta','Vr Final Venta']].corr()\n",
    "corrMatrix"
   ]
  },
  {
   "cell_type": "code",
   "execution_count": null,
   "metadata": {
    "colab": {
     "base_uri": "https://localhost:8080/",
     "height": 368
    },
    "id": "KRlpbqQASg4m",
    "outputId": "8091e2e0-245a-4f3e-cc40-24d0a443d20f"
   },
   "outputs": [
    {
     "data": {
      "text/plain": [
       "<matplotlib.axes._subplots.AxesSubplot at 0x7f8cd995c128>"
      ]
     },
     "execution_count": 106,
     "metadata": {
      "tags": []
     },
     "output_type": "execute_result"
    },
    {
     "data": {
      "image/png": "[encoded data removed]",
      "text/plain": [
       "<Figure size 432x288 with 2 Axes>"
      ]
     },
     "metadata": {
      "tags": []
     },
     "output_type": "display_data"
    }
   ],
   "source": [
    "sns.heatmap(corrMatrix, annot=True)"
   ]
  }
 ],
 "metadata": {
  "colab": {
   "name": "Basic EDA Ofertas.ipynb",
   "provenance": [],
   "toc_visible": true
  },
  "kernelspec": {
   "display_name": "Python 3",
   "language": "python",
   "name": "python3"
  },
  "language_info": {
   "codemirror_mode": {
    "name": "ipython",
    "version": 3
   },
   "file_extension": ".py",
   "mimetype": "text/x-python",
   "name": "python",
   "nbconvert_exporter": "python",
   "pygments_lexer": "ipython3",
   "version": "3.6.10"
  }
 },
 "nbformat": 4,
 "nbformat_minor": 4
}
